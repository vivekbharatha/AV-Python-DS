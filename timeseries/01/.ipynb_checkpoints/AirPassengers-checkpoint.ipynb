{
 "cells": [
  {
   "cell_type": "code",
   "execution_count": 41,
   "metadata": {
    "collapsed": false
   },
   "outputs": [
    {
     "name": "stdout",
     "output_type": "stream",
     "text": [
      "Month\n",
      "1949-01-01    112\n",
      "1949-02-01    118\n",
      "1949-03-01    132\n",
      "1949-04-01    129\n",
      "1949-05-01    121\n",
      "1949-06-01    135\n",
      "1949-07-01    148\n",
      "1949-08-01    148\n",
      "1949-09-01    136\n",
      "1949-10-01    119\n",
      "Name: #Passengers, dtype: int64\n",
      "            #Passengers\n",
      "Month                  \n",
      "1949-01-01          112\n",
      "1949-02-01          118\n",
      "1949-03-01          132\n",
      "1949-04-01          129\n",
      "1949-05-01          121\n",
      "1949-06-01          135\n",
      "1949-07-01          148\n",
      "1949-08-01          148\n",
      "1949-09-01          136\n",
      "1949-10-01          119\n",
      "1949-11-01          104\n",
      "1949-12-01          118\n",
      "1950-01-01          115\n",
      "1950-02-01          126\n",
      "1950-03-01          141\n",
      "1950-04-01          135\n",
      "1950-05-01          125\n",
      "1950-06-01          149\n",
      "1950-07-01          170\n",
      "1950-08-01          170\n",
      "1950-09-01          158\n",
      "1950-10-01          133\n",
      "1950-11-01          114\n",
      "1950-12-01          140\n",
      "1951-01-01          145\n",
      "1951-02-01          150\n",
      "1951-03-01          178\n",
      "1951-04-01          163\n",
      "1951-05-01          172\n",
      "1951-06-01          178\n",
      "...                 ...\n",
      "1958-07-01          491\n",
      "1958-08-01          505\n",
      "1958-09-01          404\n",
      "1958-10-01          359\n",
      "1958-11-01          310\n",
      "1958-12-01          337\n",
      "1959-01-01          360\n",
      "1959-02-01          342\n",
      "1959-03-01          406\n",
      "1959-04-01          396\n",
      "1959-05-01          420\n",
      "1959-06-01          472\n",
      "1959-07-01          548\n",
      "1959-08-01          559\n",
      "1959-09-01          463\n",
      "1959-10-01          407\n",
      "1959-11-01          362\n",
      "1959-12-01          405\n",
      "1960-01-01          417\n",
      "1960-02-01          391\n",
      "1960-03-01          419\n",
      "1960-04-01          461\n",
      "1960-05-01          472\n",
      "1960-06-01          535\n",
      "1960-07-01          622\n",
      "1960-08-01          606\n",
      "1960-09-01          508\n",
      "1960-10-01          461\n",
      "1960-11-01          390\n",
      "1960-12-01          432\n",
      "\n",
      "[144 rows x 1 columns]\n"
     ]
    }
   ],
   "source": [
    "import pandas as pd\n",
    "import numpy as np\n",
    "import matplotlib.pylab as plt\n",
    "from matplotlib.pylab import rcParams\n",
    "rcParams['figure.figsize'] = 15,6\n",
    "\n",
    "dateParser = lambda dates : pd.datetime.strptime(dates, '%Y-%m')\n",
    "data = pd.read_csv('AirPassengers.csv', parse_dates = True, index_col = 'Month', date_parser = dateParser)\n",
    "#print(data.head())\n",
    "#print(\"\\n Data Types:\")\n",
    "#print(data.dtypes)\n",
    "#print(\"\\n Index:\")\n",
    "#print(data.index)\n",
    "\n",
    "ts = data['#Passengers']\n",
    "print(ts.head(10))\n"
   ]
  },
  {
   "cell_type": "code",
   "execution_count": null,
   "metadata": {
    "collapsed": true
   },
   "outputs": [],
   "source": []
  }
 ],
 "metadata": {
  "kernelspec": {
   "display_name": "Python 3",
   "language": "python",
   "name": "python3"
  },
  "language_info": {
   "codemirror_mode": {
    "name": "ipython",
    "version": 3
   },
   "file_extension": ".py",
   "mimetype": "text/x-python",
   "name": "python",
   "nbconvert_exporter": "python",
   "pygments_lexer": "ipython3",
   "version": "3.6.0"
  }
 },
 "nbformat": 4,
 "nbformat_minor": 2
}
