{
 "cells": [
  {
   "cell_type": "code",
   "execution_count": 54,
   "metadata": {
    "collapsed": false
   },
   "outputs": [
    {
     "name": "stdout",
     "output_type": "stream",
     "text": [
      "Month\n",
      "1949-01-01    112\n",
      "1949-02-01    118\n",
      "1949-03-01    132\n",
      "1949-04-01    129\n",
      "1949-05-01    121\n",
      "Name: #Passengers, dtype: int64\n",
      "129\n",
      "129\n",
      "Month\n",
      "1949-01-01    112\n",
      "1949-02-01    118\n",
      "1949-03-01    132\n",
      "1949-04-01    129\n",
      "Name: #Passengers, dtype: int64\n",
      "Month\n",
      "1949-01-01    112\n",
      "1949-02-01    118\n",
      "1949-03-01    132\n",
      "1949-04-01    129\n",
      "Name: #Passengers, dtype: int64\n",
      "Month\n",
      "1949-01-01    112\n",
      "1949-02-01    118\n",
      "1949-03-01    132\n",
      "1949-04-01    129\n",
      "1949-05-01    121\n",
      "1949-06-01    135\n",
      "1949-07-01    148\n",
      "1949-08-01    148\n",
      "1949-09-01    136\n",
      "1949-10-01    119\n",
      "1949-11-01    104\n",
      "1949-12-01    118\n",
      "Name: #Passengers, dtype: int64\n"
     ]
    }
   ],
   "source": [
    "import datetime as dt\n",
    "import pandas as pd\n",
    "import numpy as np\n",
    "import matplotlib.pylab as plt\n",
    "from matplotlib.pylab import rcParams\n",
    "rcParams['figure.figsize'] = 15,6\n",
    "\n",
    "#\n",
    "# Loading and handling timeseries\n",
    "#\n",
    "\n",
    "dateParser = lambda dates : pd.datetime.strptime(dates, '%Y-%m')\n",
    "data = pd.read_csv('AirPassengers.csv')\n",
    "# Reading csv as time series data with date parsing options and timeobject as index for Month column \n",
    "data = pd.read_csv('AirPassengers.csv', parse_dates = True, index_col = 'Month', date_parser = dateParser)\n",
    "\n",
    "#print(\"\\n Data Types:\")\n",
    "#print(data.dtypes)\n",
    "#print(\"\\n Index:\")\n",
    "#print(data.index)\n",
    "\n",
    "ts = data['#Passengers']\n",
    "print(ts.head())\n",
    "\n",
    "# Selecting value with indexing techniques and end index is inclusive not like numeric index where it's exclusive\n",
    "# Indices have to be sorted\n",
    "print(ts['1949-04-01'])\n",
    "print(ts[dt.datetime(1949,4,1)])\n",
    "\n",
    "print(ts['1949-01-01':'1949-04-01'])\n",
    "print(ts[:'1949-04-01'])\n",
    "\n",
    "# Access all the values of an year\n",
    "print(ts['1949'])\n"
   ]
  },
  {
   "cell_type": "code",
   "execution_count": null,
   "metadata": {
    "collapsed": true
   },
   "outputs": [],
   "source": []
  }
 ],
 "metadata": {
  "kernelspec": {
   "display_name": "Python 3",
   "language": "python",
   "name": "python3"
  },
  "language_info": {
   "codemirror_mode": {
    "name": "ipython",
    "version": 3
   },
   "file_extension": ".py",
   "mimetype": "text/x-python",
   "name": "python",
   "nbconvert_exporter": "python",
   "pygments_lexer": "ipython3",
   "version": "3.6.0"
  }
 },
 "nbformat": 4,
 "nbformat_minor": 2
}
